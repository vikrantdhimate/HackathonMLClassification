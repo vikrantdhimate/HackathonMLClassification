{
 "cells": [
  {
   "cell_type": "code",
   "execution_count": 13,
   "metadata": {},
   "outputs": [],
   "source": [
    "import os\n",
    "import time\n",
    "import wave\n",
    "import pyaudio\n",
    "import subprocess"
   ]
  },
  {
   "cell_type": "code",
   "execution_count": 14,
   "metadata": {},
   "outputs": [],
   "source": [
    "CHUNK = 1024\n",
    "FORMAT = pyaudio.paInt16\n",
    "CHANNELS = 1\n",
    "RATE = 44100\n",
    "RECORD_SECONDS = 20\n",
    "WAVE_OUTPUT_FILENAME = 'output.wav'\n",
    "\n",
    "p = pyaudio.PyAudio()\n",
    "\n",
    "stream = p.open(format=FORMAT, channels=CHANNELS, rate=RATE, input=True, frames_per_buffer=CHUNK)\n",
    "\n",
    "if not os.path.exists('sounds'):\n",
    "    os.makedirs('sounds')\n",
    "\n",
    "\n",
    "def run():\n",
    "    input('Speak for 20 secs after pressing \\'Enter\\': ')\n",
    "    print('\\nREAD NOW!')\n",
    "    print('My biggest mistake was attempting to stifle my laughter in a library. It came out as a loud snort, one that '\n",
    "          'would make the largest pig proud. The librarian quietly shuffled over. She slid her glasses down her nose. I'\n",
    "          ' could see the rage glowing in her muddy brown eyes. She mumbled a few words at me and then jabbed her bony '\n",
    "          'finger at the center of her glasses, returning them to the bridge of her nose. She turned away, clicking her'\n",
    "          ' tongue against the roof of her mouth. I could swear I saw a smirk crinkle at the corner of her mouth.')\n",
    "    time.sleep(.5)\n",
    "\n",
    "    frames = []\n",
    "\n",
    "    for i in range(0, int(RATE / CHUNK * RECORD_SECONDS)):\n",
    "        data = stream.read(CHUNK)\n",
    "        frames.append(data)\n",
    "\n",
    "    print('\\nRecording Saved.')\n",
    "    stream.stop_stream()\n",
    "    stream.close()\n",
    "\n",
    "    p.terminate()\n",
    "\n",
    "    wf = wave.open('sounds/' + WAVE_OUTPUT_FILENAME, 'wb')\n",
    "    wf.setnchannels(CHANNELS)\n",
    "    wf.setsampwidth(p.get_sample_size(FORMAT))\n",
    "    wf.setframerate(RATE)\n",
    "    wf.writeframes(b''.join(frames))\n",
    "    wf.close()"
   ]
  },
  {
   "cell_type": "code",
   "execution_count": 15,
   "metadata": {},
   "outputs": [
    {
     "name": "stdout",
     "output_type": "stream",
     "text": [
      "Speak for 20 secs after pressing 'Enter': \n",
      "\n",
      "READ NOW!\n",
      "My biggest mistake was attempting to stifle my laughter in a library. It came out as a loud snort, one that would make the largest pig proud. The librarian quietly shuffled over. She slid her glasses down her nose. I could see the rage glowing in her muddy brown eyes. She mumbled a few words at me and then jabbed her bony finger at the center of her glasses, returning them to the bridge of her nose. She turned away, clicking her tongue against the roof of her mouth. I could swear I saw a smirk crinkle at the corner of her mouth.\n",
      "\n",
      "Recording Saved.\n"
     ]
    }
   ],
   "source": [
    "run() "
   ]
  },
  {
   "cell_type": "code",
   "execution_count": 18,
   "metadata": {},
   "outputs": [
    {
     "data": {
      "text/plain": [
       "CompletedProcess(args=['C:/opt/R/R-3.6.2/bin/Rscript.exe', 'getAttributes.r', 'C:/Users/dhimate/Documents/My Received Files/RecognizeGenderModel'], returncode=0)"
      ]
     },
     "execution_count": 18,
     "metadata": {},
     "output_type": "execute_result"
    }
   ],
   "source": [
    "from subprocess import run\n",
    "run(['C:/opt/R/R-3.6.2/bin/Rscript.exe', 'getAttributes.r','C:/Users/dhimate/Documents/My Received Files/RecognizeGenderModel'])  # running R script for extracting data from recorded voice"
   ]
  },
  {
   "cell_type": "code",
   "execution_count": 17,
   "metadata": {},
   "outputs": [
    {
     "name": "stdout",
     "output_type": "stream",
     "text": [
      " Volume in drive C is PC COE\n",
      " Volume Serial Number is EE49-A7F1\n",
      "\n",
      " Directory of C:\\Users\\dhimate\\Documents\\My Received Files\\RecognizeGenderModel\n",
      "\n",
      "02/20/2020  12:04 PM    <DIR>          .\n",
      "02/20/2020  12:04 PM    <DIR>          ..\n",
      "02/20/2020  01:56 AM    <DIR>          .ipynb_checkpoints\n",
      "01/13/2020  03:09 PM             8,425 getAttributes.r\n",
      "02/20/2020  02:11 AM    <DIR>          output\n",
      "02/20/2020  01:46 AM           111,130 PyAudio-0.2.11-cp37-cp37m-win_amd64.whl\n",
      "02/20/2020  01:41 AM            96,212 PyAudio-0.2.11-cp37-cp37m-win32.whl\n",
      "02/20/2020  12:02 PM            25,597 RecognizeGender.ipynb\n",
      "02/20/2020  12:04 PM             5,344 RecordAndExtracttoCSV.ipynb\n",
      "02/20/2020  12:04 PM    <DIR>          sounds\n",
      "02/20/2020  12:01 PM            63,504 trained_neural_net\n",
      "02/19/2020  01:03 PM         1,065,381 voice.csv\n",
      "               7 File(s)      1,375,593 bytes\n",
      "               5 Dir(s)  241,559,023,616 bytes free\n"
     ]
    }
   ],
   "source": [
    "ls\n"
   ]
  },
  {
   "cell_type": "code",
   "execution_count": null,
   "metadata": {},
   "outputs": [],
   "source": []
  }
 ],
 "metadata": {
  "kernelspec": {
   "display_name": "Python 3",
   "language": "python",
   "name": "python3"
  },
  "language_info": {
   "codemirror_mode": {
    "name": "ipython",
    "version": 3
   },
   "file_extension": ".py",
   "mimetype": "text/x-python",
   "name": "python",
   "nbconvert_exporter": "python",
   "pygments_lexer": "ipython3",
   "version": "3.7.1"
  }
 },
 "nbformat": 4,
 "nbformat_minor": 2
}
